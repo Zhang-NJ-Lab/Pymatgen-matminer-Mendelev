{
 "cells": [
  {
   "cell_type": "code",
   "execution_count": 1,
   "id": "daa4f94f-ed55-467e-9c27-d7e3e1a27501",
   "metadata": {},
   "outputs": [],
   "source": []
  },
  {
   "cell_type": "code",
   "execution_count": 1,
   "id": "0af0150d-05c1-4b77-b3d2-e73cd52e871e",
   "metadata": {},
   "outputs": [],
   "source": [
    "import fitz\n",
    "import time\n",
    "import re\n",
    "import os"
   ]
  },
  {
   "cell_type": "code",
   "execution_count": 4,
   "id": "251a229c-b119-4a8a-ad80-55dc5a13d382",
   "metadata": {},
   "outputs": [],
   "source": [
    "def pdf2pic(path, pic_path):\n",
    "    '''\n",
    "    # 从pdf中提取图片\n",
    "    :param path: pdf的路径\n",
    "    :param pic_path: 图片保存的路径\n",
    "    :return:\n",
    "    '''\n",
    "    t0 = time.clock()\n",
    "    # 使用正则表达式来查找图片\n",
    "    checkXO = r\"/Type(?= */XObject)\" \n",
    "    checkIM = r\"/Subtype(?= */Image)\"\n",
    "    # 打开pdf\n",
    "    doc = fitz.open(path)\n",
    "    # 图片计数\n",
    "    imgcount = 0\n",
    "    #lenXREF = doc._getXrefLength()    \n",
    "    lenXREF = doc.xref_length()\n",
    "    # 打印PDF的信息\n",
    "    print(\"文件名:{}, 页数: {}, 对象: {}\".format(path, len(doc), lenXREF - 1))   \n",
    "    \n",
    "    # 遍历每一个对象\n",
    "    for i in range(1, lenXREF):\n",
    "        # 定义对象字符串\n",
    "        text = doc.getObjectString(i)\n",
    "        isXObject = re.search(checkXO, text)\n",
    "        # 使用正则表达式查看是否是图片\n",
    "        isImage = re.search(checkIM, text)\n",
    "        # 如果不是对象也不是图片，则continue\n",
    "        if not isXObject or not isImage:\n",
    "            continue\n",
    "        imgcount += 1\n",
    "        # 根据索引生成图像\n",
    "        pix = fitz.Pixmap(doc, i)\n",
    "        # 根据pdf的路径生成图片的名称\n",
    "        new_name = path.replace('\\\\', '_') + \"_img{}.png\".format(imgcount)\n",
    "        new_name = new_name.replace(':', '')\n",
    "        \n",
    "        # 如果pix.n<5,可以直接存为PNG\n",
    "        if pix.n < 5:\n",
    "            pix.writePNG(os.path.join(pic_path, new_name))\n",
    "        # 否则先转换CMYK\n",
    "        else:\n",
    "            pix0 = fitz.Pixmap(fitz.csRGB, pix)\n",
    "            pix0.writePNG(os.path.join(pic_path, new_name))\n",
    "            pix0 = None\n",
    "        # 释放资源\n",
    "        pix = None\n",
    "        t1 = time.clock()\n",
    "        print(\"运行时间:{}s\".format(t1 - t0))\n",
    "        print(\"提取了{}张图片\".format(imgcount))"
   ]
  },
  {
   "cell_type": "code",
   "execution_count": 6,
   "id": "13954df9-0b86-4cbd-a6d1-09b3150e95c6",
   "metadata": {},
   "outputs": [
    {
     "name": "stdout",
     "output_type": "stream",
     "text": [
      "文件名:D:\\ML-Examples\\PdfImageExtraction\\Unsupervised.pdf, 页数: 44, 对象: 1181\n"
     ]
    },
    {
     "name": "stderr",
     "output_type": "stream",
     "text": [
      "D:\\ProgramData\\Anaconda3\\envs\\py374\\lib\\site-packages\\ipykernel_launcher.py:8: DeprecationWarning: time.clock has been deprecated in Python 3.3 and will be removed from Python 3.8: use time.perf_counter or time.process_time instead\n",
      "  \n"
     ]
    },
    {
     "ename": "AttributeError",
     "evalue": "'Document' object has no attribute 'getObjectString'",
     "output_type": "error",
     "traceback": [
      "\u001b[1;31m---------------------------------------------------------------------------\u001b[0m",
      "\u001b[1;31mAttributeError\u001b[0m                            Traceback (most recent call last)",
      "\u001b[1;32m~\\AppData\\Local\\Temp\\ipykernel_23808\\4014582003.py\u001b[0m in \u001b[0;36m<module>\u001b[1;34m\u001b[0m\n\u001b[0;32m      9\u001b[0m     \u001b[1;32melse\u001b[0m\u001b[1;33m:\u001b[0m\u001b[1;33m\u001b[0m\u001b[1;33m\u001b[0m\u001b[0m\n\u001b[0;32m     10\u001b[0m         \u001b[0mos\u001b[0m\u001b[1;33m.\u001b[0m\u001b[0mmkdir\u001b[0m\u001b[1;33m(\u001b[0m\u001b[0mpic_path\u001b[0m\u001b[1;33m)\u001b[0m\u001b[1;33m\u001b[0m\u001b[1;33m\u001b[0m\u001b[0m\n\u001b[1;32m---> 11\u001b[1;33m     \u001b[0mm\u001b[0m \u001b[1;33m=\u001b[0m \u001b[0mpdf2pic\u001b[0m\u001b[1;33m(\u001b[0m\u001b[0mpath\u001b[0m\u001b[1;33m,\u001b[0m \u001b[0mpic_path\u001b[0m\u001b[1;33m)\u001b[0m\u001b[1;33m\u001b[0m\u001b[1;33m\u001b[0m\u001b[0m\n\u001b[0m",
      "\u001b[1;32m~\\AppData\\Local\\Temp\\ipykernel_23808\\3503186393.py\u001b[0m in \u001b[0;36mpdf2pic\u001b[1;34m(path, pic_path)\u001b[0m\n\u001b[0;32m     22\u001b[0m     \u001b[1;32mfor\u001b[0m \u001b[0mi\u001b[0m \u001b[1;32min\u001b[0m \u001b[0mrange\u001b[0m\u001b[1;33m(\u001b[0m\u001b[1;36m1\u001b[0m\u001b[1;33m,\u001b[0m \u001b[0mlenXREF\u001b[0m\u001b[1;33m)\u001b[0m\u001b[1;33m:\u001b[0m\u001b[1;33m\u001b[0m\u001b[1;33m\u001b[0m\u001b[0m\n\u001b[0;32m     23\u001b[0m         \u001b[1;31m# 定义对象字符串\u001b[0m\u001b[1;33m\u001b[0m\u001b[1;33m\u001b[0m\u001b[1;33m\u001b[0m\u001b[0m\n\u001b[1;32m---> 24\u001b[1;33m         \u001b[0mtext\u001b[0m \u001b[1;33m=\u001b[0m \u001b[0mdoc\u001b[0m\u001b[1;33m.\u001b[0m\u001b[0mgetObjectString\u001b[0m\u001b[1;33m(\u001b[0m\u001b[0mi\u001b[0m\u001b[1;33m)\u001b[0m\u001b[1;33m\u001b[0m\u001b[1;33m\u001b[0m\u001b[0m\n\u001b[0m\u001b[0;32m     25\u001b[0m         \u001b[0misXObject\u001b[0m \u001b[1;33m=\u001b[0m \u001b[0mre\u001b[0m\u001b[1;33m.\u001b[0m\u001b[0msearch\u001b[0m\u001b[1;33m(\u001b[0m\u001b[0mcheckXO\u001b[0m\u001b[1;33m,\u001b[0m \u001b[0mtext\u001b[0m\u001b[1;33m)\u001b[0m\u001b[1;33m\u001b[0m\u001b[1;33m\u001b[0m\u001b[0m\n\u001b[0;32m     26\u001b[0m         \u001b[1;31m# 使用正则表达式查看是否是图片\u001b[0m\u001b[1;33m\u001b[0m\u001b[1;33m\u001b[0m\u001b[1;33m\u001b[0m\u001b[0m\n",
      "\u001b[1;31mAttributeError\u001b[0m: 'Document' object has no attribute 'getObjectString'"
     ]
    }
   ],
   "source": [
    "if __name__=='__main__':\n",
    "    # pdf路径\n",
    "    path = r'D:\\ML-Examples\\PdfImageExtraction\\Unsupervised.pdf'\n",
    "    pic_path = r'D:\\ML-Examples\\PdfImageExtraction\\imageSave'\n",
    "    # 创建保存图片的文件夹\n",
    "    if os.path.exists(pic_path):\n",
    "        print(\"文件夹已存在，请重新创建新文件夹！\")\n",
    "        raise SystemExit\n",
    "    else:\n",
    "        os.mkdir(pic_path)\n",
    "    m = pdf2pic(path, pic_path)"
   ]
  },
  {
   "cell_type": "code",
   "execution_count": null,
   "id": "ad4db201-599e-4668-bfd0-6a03b4ec868c",
   "metadata": {},
   "outputs": [],
   "source": []
  }
 ],
 "metadata": {
  "kernelspec": {
   "display_name": "Python [conda env:py374]",
   "language": "python",
   "name": "conda-env-py374-py"
  },
  "language_info": {
   "codemirror_mode": {
    "name": "ipython",
    "version": 3
   },
   "file_extension": ".py",
   "mimetype": "text/x-python",
   "name": "python",
   "nbconvert_exporter": "python",
   "pygments_lexer": "ipython3",
   "version": "3.7.4"
  }
 },
 "nbformat": 4,
 "nbformat_minor": 5
}
