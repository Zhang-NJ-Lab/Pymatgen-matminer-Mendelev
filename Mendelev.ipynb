{
 "cells": [
  {
   "cell_type": "markdown",
   "id": "62ea51e9-7d99-442d-b1df-ee13e5fd18ac",
   "metadata": {},
   "source": [
    "mendelev ion: https://hub.gke2.mybinder.org/user/lmmentel-mendeleev-a9amq8hp/notebooks/docs/source/notebooks/ions.ipynb\n",
    "mendelev element:  https://github.com/lmmentel/mendeleev"
   ]
  },
  {
   "cell_type": "code",
   "execution_count": 1,
   "id": "487d68a8-1241-4bb5-b2ba-8815f152436b",
   "metadata": {},
   "outputs": [],
   "source": [
    "from mendeleev.ion import Ion"
   ]
  },
  {
   "cell_type": "code",
   "execution_count": 2,
   "id": "2d8a56fb-c73f-4dbe-836d-b7211342a27a",
   "metadata": {},
   "outputs": [],
   "source": [
    "fe_2 = Ion(\"Fe\", 2)"
   ]
  },
  {
   "cell_type": "code",
   "execution_count": 3,
   "id": "fa1b2d4e-14df-4975-81be-defd47398e85",
   "metadata": {},
   "outputs": [
    {
     "data": {
      "text/plain": [
       "[IonicRadius(\n",
       " \tatomic_number=26,\n",
       "  \tcharge=2,\n",
       "  \tcoordination='IV',\n",
       "  \tcrystal_radius=77.0,\n",
       "  \teconf='3d6',\n",
       "  \tid=149,\n",
       "  \tionic_radius=63.0,\n",
       "  \tmost_reliable=False,\n",
       "  \torigin='',\n",
       "  \tspin='HS',\n",
       " ),\n",
       " IonicRadius(\n",
       " \tatomic_number=26,\n",
       "  \tcharge=2,\n",
       "  \tcoordination='IVSQ',\n",
       "  \tcrystal_radius=78.0,\n",
       "  \teconf='3d6',\n",
       "  \tid=150,\n",
       "  \tionic_radius=64.0,\n",
       "  \tmost_reliable=False,\n",
       "  \torigin='',\n",
       "  \tspin='HS',\n",
       " ),\n",
       " IonicRadius(\n",
       " \tatomic_number=26,\n",
       "  \tcharge=2,\n",
       "  \tcoordination='VI',\n",
       "  \tcrystal_radius=75.0,\n",
       "  \teconf='3d6',\n",
       "  \tid=151,\n",
       "  \tionic_radius=61.0,\n",
       "  \tmost_reliable=False,\n",
       "  \torigin='estimated, ',\n",
       "  \tspin='LS',\n",
       " ),\n",
       " IonicRadius(\n",
       " \tatomic_number=26,\n",
       "  \tcharge=2,\n",
       "  \tcoordination='VI',\n",
       "  \tcrystal_radius=92.0,\n",
       "  \teconf='3d6',\n",
       "  \tid=152,\n",
       "  \tionic_radius=78.0,\n",
       "  \tmost_reliable=True,\n",
       "  \torigin='from r^3 vs V plots, ',\n",
       "  \tspin='HS',\n",
       " ),\n",
       " IonicRadius(\n",
       " \tatomic_number=26,\n",
       "  \tcharge=2,\n",
       "  \tcoordination='VIII',\n",
       "  \tcrystal_radius=106.0,\n",
       "  \teconf='3d6',\n",
       "  \tid=153,\n",
       "  \tionic_radius=92.0,\n",
       "  \tmost_reliable=False,\n",
       "  \torigin='calculated, ',\n",
       "  \tspin='HS',\n",
       " )]"
      ]
     },
     "execution_count": 3,
     "metadata": {},
     "output_type": "execute_result"
    }
   ],
   "source": [
    "fe_2.radius"
   ]
  },
  {
   "cell_type": "code",
   "execution_count": 7,
   "id": "5d6893b1-8603-4a97-b797-a1d6a62d0d8a",
   "metadata": {},
   "outputs": [
    {
     "data": {
      "text/plain": [
       "[IonicRadius(\n",
       " \tatomic_number=9,\n",
       "  \tcharge=-1,\n",
       "  \tcoordination='II',\n",
       "  \tcrystal_radius=114.5,\n",
       "  \teconf='2p6',\n",
       "  \tid=144,\n",
       "  \tionic_radius=128.5,\n",
       "  \tmost_reliable=False,\n",
       "  \torigin='',\n",
       "  \tspin='',\n",
       " ),\n",
       " IonicRadius(\n",
       " \tatomic_number=9,\n",
       "  \tcharge=-1,\n",
       "  \tcoordination='III',\n",
       "  \tcrystal_radius=115.99999999999999,\n",
       "  \teconf='2p6',\n",
       "  \tid=145,\n",
       "  \tionic_radius=130.0,\n",
       "  \tmost_reliable=False,\n",
       "  \torigin='',\n",
       "  \tspin='',\n",
       " ),\n",
       " IonicRadius(\n",
       " \tatomic_number=9,\n",
       "  \tcharge=-1,\n",
       "  \tcoordination='IV',\n",
       "  \tcrystal_radius=117.0,\n",
       "  \teconf='2p6',\n",
       "  \tid=146,\n",
       "  \tionic_radius=131.0,\n",
       "  \tmost_reliable=False,\n",
       "  \torigin='',\n",
       "  \tspin='',\n",
       " ),\n",
       " IonicRadius(\n",
       " \tatomic_number=9,\n",
       "  \tcharge=-1,\n",
       "  \tcoordination='VI',\n",
       "  \tcrystal_radius=119.0,\n",
       "  \teconf='2p6',\n",
       "  \tid=147,\n",
       "  \tionic_radius=133.0,\n",
       "  \tmost_reliable=False,\n",
       "  \torigin='',\n",
       "  \tspin='',\n",
       " )]"
      ]
     },
     "execution_count": 7,
     "metadata": {},
     "output_type": "execute_result"
    }
   ],
   "source": [
    "F_1 = Ion(\"F\", -1)\n",
    "F_1.radius"
   ]
  },
  {
   "cell_type": "code",
   "execution_count": 9,
   "id": "7873a96b-ea4b-44ec-aa19-5deaa960cc48",
   "metadata": {},
   "outputs": [
    {
     "data": {
      "text/plain": [
       "[IonicRadius(\n",
       " \tatomic_number=37,\n",
       "  \tcharge=1,\n",
       "  \tcoordination='VI',\n",
       "  \tcrystal_radius=166.0,\n",
       "  \teconf='4p6',\n",
       "  \tid=344,\n",
       "  \tionic_radius=152.0,\n",
       "  \tmost_reliable=False,\n",
       "  \torigin='',\n",
       "  \tspin='',\n",
       " ),\n",
       " IonicRadius(\n",
       " \tatomic_number=37,\n",
       "  \tcharge=1,\n",
       "  \tcoordination='VII',\n",
       "  \tcrystal_radius=170.0,\n",
       "  \teconf='4p6',\n",
       "  \tid=345,\n",
       "  \tionic_radius=156.0,\n",
       "  \tmost_reliable=False,\n",
       "  \torigin='',\n",
       "  \tspin='',\n",
       " ),\n",
       " IonicRadius(\n",
       " \tatomic_number=37,\n",
       "  \tcharge=1,\n",
       "  \tcoordination='VIII',\n",
       "  \tcrystal_radius=175.0,\n",
       "  \teconf='4p6',\n",
       "  \tid=346,\n",
       "  \tionic_radius=161.0,\n",
       "  \tmost_reliable=False,\n",
       "  \torigin='',\n",
       "  \tspin='',\n",
       " ),\n",
       " IonicRadius(\n",
       " \tatomic_number=37,\n",
       "  \tcharge=1,\n",
       "  \tcoordination='IX',\n",
       "  \tcrystal_radius=177.0,\n",
       "  \teconf='4p6',\n",
       "  \tid=347,\n",
       "  \tionic_radius=163.0,\n",
       "  \tmost_reliable=False,\n",
       "  \torigin='estimated, ',\n",
       "  \tspin='',\n",
       " ),\n",
       " IonicRadius(\n",
       " \tatomic_number=37,\n",
       "  \tcharge=1,\n",
       "  \tcoordination='X',\n",
       "  \tcrystal_radius=180.0,\n",
       "  \teconf='4p6',\n",
       "  \tid=348,\n",
       "  \tionic_radius=166.0,\n",
       "  \tmost_reliable=False,\n",
       "  \torigin='',\n",
       "  \tspin='',\n",
       " ),\n",
       " IonicRadius(\n",
       " \tatomic_number=37,\n",
       "  \tcharge=1,\n",
       "  \tcoordination='XI',\n",
       "  \tcrystal_radius=183.0,\n",
       "  \teconf='4p6',\n",
       "  \tid=349,\n",
       "  \tionic_radius=169.0,\n",
       "  \tmost_reliable=False,\n",
       "  \torigin='',\n",
       "  \tspin='',\n",
       " ),\n",
       " IonicRadius(\n",
       " \tatomic_number=37,\n",
       "  \tcharge=1,\n",
       "  \tcoordination='XII',\n",
       "  \tcrystal_radius=186.0,\n",
       "  \teconf='4p6',\n",
       "  \tid=350,\n",
       "  \tionic_radius=172.0,\n",
       "  \tmost_reliable=False,\n",
       "  \torigin='',\n",
       "  \tspin='',\n",
       " ),\n",
       " IonicRadius(\n",
       " \tatomic_number=37,\n",
       "  \tcharge=1,\n",
       "  \tcoordination='XIV',\n",
       "  \tcrystal_radius=197.0,\n",
       "  \teconf='4p6',\n",
       "  \tid=351,\n",
       "  \tionic_radius=183.0,\n",
       "  \tmost_reliable=False,\n",
       "  \torigin='',\n",
       "  \tspin='',\n",
       " )]"
      ]
     },
     "execution_count": 9,
     "metadata": {},
     "output_type": "execute_result"
    }
   ],
   "source": [
    "Rb_1 = Ion(\"Rb\", 1)\n",
    "Rb_1.radius"
   ]
  },
  {
   "cell_type": "code",
   "execution_count": 14,
   "id": "4a29470e-dcd8-4c8c-8a00-44e7d2a20274",
   "metadata": {},
   "outputs": [
    {
     "name": "stdout",
     "output_type": "stream",
     "text": [
      "27.28954\n",
      "4.177128\n"
     ]
    }
   ],
   "source": [
    "# Appropriate value of ionization energy and electron affinity are available under ie and ea attributes\n",
    "print(Rb_1.ie)\n",
    "print(Rb_1.ea)"
   ]
  },
  {
   "cell_type": "code",
   "execution_count": null,
   "id": "f9cb8743-81ea-4748-85f3-40a6f1f50a00",
   "metadata": {},
   "outputs": [],
   "source": []
  }
 ],
 "metadata": {
  "kernelspec": {
   "display_name": "Python [conda env:py37]",
   "language": "python",
   "name": "conda-env-py37-py"
  },
  "language_info": {
   "codemirror_mode": {
    "name": "ipython",
    "version": 3
   },
   "file_extension": ".py",
   "mimetype": "text/x-python",
   "name": "python",
   "nbconvert_exporter": "python",
   "pygments_lexer": "ipython3",
   "version": "3.7.0"
  }
 },
 "nbformat": 4,
 "nbformat_minor": 5
}
