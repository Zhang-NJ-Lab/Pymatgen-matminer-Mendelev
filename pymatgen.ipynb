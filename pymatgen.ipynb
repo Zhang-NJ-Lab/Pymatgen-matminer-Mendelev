{
 "cells": [
  {
   "cell_type": "markdown",
   "id": "a0abcbc0-f127-4ba7-9dd7-d41b10fd7d75",
   "metadata": {},
   "source": [
    "https://workshop.materialsproject.org/lessons/02_intro_pymatgen/1%20-%20pymatgen%20foundations/ "
   ]
  },
  {
   "cell_type": "code",
   "execution_count": null,
   "id": "34f44644-7a7c-459f-91b5-5e4494819188",
   "metadata": {},
   "outputs": [],
   "source": [
    "from pymatgen.core.composition import Element, Composition\n",
    "from pymatgen.core.periodic_table import Specie"
   ]
  },
  {
   "cell_type": "code",
   "execution_count": 2,
   "id": "718d6006-b89c-49cc-9776-c7364c2aa3cd",
   "metadata": {},
   "outputs": [],
   "source": [
    "carbon = Element('C')"
   ]
  },
  {
   "cell_type": "code",
   "execution_count": 3,
   "id": "c5904ab7-d9e2-42a1-bf68-f6ce15664eea",
   "metadata": {},
   "outputs": [
    {
     "data": {
      "text/plain": [
       "0.3"
      ]
     },
     "execution_count": 3,
     "metadata": {},
     "output_type": "execute_result"
    }
   ],
   "source": [
    "carbon.average_ionic_radius"
   ]
  },
  {
   "cell_type": "code",
   "execution_count": 11,
   "id": "fc11c20d-0fad-4147-8b40-89922a7655eb",
   "metadata": {},
   "outputs": [
    {
     "data": {
      "text/plain": [
       "1.66"
      ]
     },
     "execution_count": 11,
     "metadata": {},
     "output_type": "execute_result"
    }
   ],
   "source": [
    "Element('Rb').average_ionic_radius"
   ]
  },
  {
   "cell_type": "code",
   "execution_count": 15,
   "id": "8e3a98c2-b967-4426-8284-84814b10e8da",
   "metadata": {},
   "outputs": [
    {
     "data": {
      "text/plain": [
       "1.16"
      ]
     },
     "execution_count": 15,
     "metadata": {},
     "output_type": "execute_result"
    }
   ],
   "source": [
    "Element('Na').average_ionic_radius"
   ]
  },
  {
   "cell_type": "code",
   "execution_count": 13,
   "id": "e7597bed-3b17-42a8-89ec-455970d145cf",
   "metadata": {},
   "outputs": [
    {
     "data": {
      "text/plain": [
       "0.705"
      ]
     },
     "execution_count": 13,
     "metadata": {},
     "output_type": "execute_result"
    }
   ],
   "source": [
    "Element('F').average_ionic_radius"
   ]
  },
  {
   "cell_type": "code",
   "execution_count": 17,
   "id": "39b3f324-ed1b-48d7-820c-bf62af29b8c4",
   "metadata": {},
   "outputs": [
    {
     "data": {
      "text/plain": [
       "1.52"
      ]
     },
     "execution_count": 17,
     "metadata": {},
     "output_type": "execute_result"
    }
   ],
   "source": [
    "Element('K').average_ionic_radius"
   ]
  },
  {
   "cell_type": "code",
   "execution_count": 4,
   "id": "a21f6371-b37b-4ec1-a545-b954717cf72d",
   "metadata": {},
   "outputs": [
    {
     "data": {
      "text/plain": [
       "Species O2-"
      ]
     },
     "execution_count": 4,
     "metadata": {},
     "output_type": "execute_result"
    }
   ],
   "source": [
    "o_ion = Specie('O', oxidation_state=-2)\n",
    "o_ion"
   ]
  },
  {
   "cell_type": "code",
   "execution_count": 5,
   "id": "c71122de-e587-44f4-9b1e-35f8ab23fbd5",
   "metadata": {},
   "outputs": [
    {
     "data": {
      "text/plain": [
       "15.9994"
      ]
     },
     "execution_count": 5,
     "metadata": {},
     "output_type": "execute_result"
    }
   ],
   "source": [
    "o_ion.atomic_mass"
   ]
  },
  {
   "cell_type": "code",
   "execution_count": 6,
   "id": "18c453d3-3206-4985-abde-81315a6e7e82",
   "metadata": {},
   "outputs": [
    {
     "data": {
      "text/plain": [
       "Species O2-"
      ]
     },
     "execution_count": 6,
     "metadata": {},
     "output_type": "execute_result"
    }
   ],
   "source": [
    "Specie.from_string('O2-')"
   ]
  },
  {
   "cell_type": "code",
   "execution_count": 7,
   "id": "55f755c2-b12f-4a57-b7f4-37821adb83ff",
   "metadata": {},
   "outputs": [
    {
     "name": "stdout",
     "output_type": "stream",
     "text": [
      "formula Au0.5 Cu0.5\n",
      "chemical system Au-Cu\n"
     ]
    }
   ],
   "source": [
    "comp = Composition({'Au': 0.5, 'Cu': 0.5})\n",
    "print(\"formula\", comp.alphabetical_formula)\n",
    "print(\"chemical system\", comp.chemical_system)"
   ]
  },
  {
   "cell_type": "code",
   "execution_count": null,
   "id": "ced1d448-624e-4e69-b3d9-26ef6437260f",
   "metadata": {},
   "outputs": [],
   "source": [
    "https://workshop.materialsproject.org/lessons/02_intro_pymatgen/1%20-%20pymatgen%20foundations/"
   ]
  }
 ],
 "metadata": {
  "kernelspec": {
   "display_name": "Python [conda env:py37]",
   "language": "python",
   "name": "conda-env-py37-py"
  },
  "language_info": {
   "codemirror_mode": {
    "name": "ipython",
    "version": 3
   },
   "file_extension": ".py",
   "mimetype": "text/x-python",
   "name": "python",
   "nbconvert_exporter": "python",
   "pygments_lexer": "ipython3",
   "version": "3.7.0"
  }
 },
 "nbformat": 4,
 "nbformat_minor": 5
}
